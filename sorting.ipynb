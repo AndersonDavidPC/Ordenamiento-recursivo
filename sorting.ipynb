{
 "cells": [
  {
   "cell_type": "markdown",
   "id": "64c64687",
   "metadata": {},
   "source": [
    "# Metodo recursivo para ordenar una lista de numeros"
   ]
  },
  {
   "cell_type": "code",
   "execution_count": 1,
   "id": "98be3617",
   "metadata": {},
   "outputs": [],
   "source": [
    "def sorting(list):\n",
    "    print(sorted_list, list)\n",
    "    #Caso base\n",
    "    if len(list)==0:\n",
    "        print(\"Lista ordenada\")\n",
    "        return sorted_list\n",
    "    #Caso recursivo\n",
    "    else:\n",
    "        i=0\n",
    "        while (i<len(list)-1):\n",
    "            if list[0]>list[i+1]:\n",
    "                list[0],list[i+1]=list[i+1],list[0]\n",
    "                print(sorted_list, list)\n",
    "            else:\n",
    "                i+=1\n",
    "                print(sorted_list, list)\n",
    "        sorted_list.append(list.pop(0))\n",
    "        sorting(list)\n",
    "    return sorted_list\n",
    "\n",
    "#Lista ordenada\n",
    "sorted_list=[]"
   ]
  },
  {
   "cell_type": "markdown",
   "id": "15cccee7",
   "metadata": {},
   "source": [
    "## Ejemplo"
   ]
  },
  {
   "cell_type": "code",
   "execution_count": 2,
   "id": "f938ac4d",
   "metadata": {},
   "outputs": [],
   "source": [
    "#Lista de numeros\n",
    "list=[8, 4, 6, 2]"
   ]
  },
  {
   "cell_type": "code",
   "execution_count": 3,
   "id": "4463455c",
   "metadata": {},
   "outputs": [
    {
     "name": "stdout",
     "output_type": "stream",
     "text": [
      "Lista desordenada\n",
      "[8, 4, 6, 2]\n",
      "Ordenando...\n",
      "[] [8, 4, 6, 2]\n",
      "[] [4, 8, 6, 2]\n",
      "[] [4, 8, 6, 2]\n",
      "[] [4, 8, 6, 2]\n",
      "[] [2, 8, 6, 4]\n",
      "[] [2, 8, 6, 4]\n",
      "[2] [8, 6, 4]\n",
      "[2] [6, 8, 4]\n",
      "[2] [6, 8, 4]\n",
      "[2] [4, 8, 6]\n",
      "[2] [4, 8, 6]\n",
      "[2, 4] [8, 6]\n",
      "[2, 4] [6, 8]\n",
      "[2, 4] [6, 8]\n",
      "[2, 4, 6] [8]\n",
      "[2, 4, 6, 8] []\n",
      "Lista ordenada\n",
      "[2, 4, 6, 8]\n"
     ]
    }
   ],
   "source": [
    "print(\"Lista desordenada\")\n",
    "print(list)\n",
    "print(\"Ordenando...\")\n",
    "print(sorting(list))"
   ]
  }
 ],
 "metadata": {
  "kernelspec": {
   "display_name": "Python 3 (ipykernel)",
   "language": "python",
   "name": "python3"
  },
  "language_info": {
   "codemirror_mode": {
    "name": "ipython",
    "version": 3
   },
   "file_extension": ".py",
   "mimetype": "text/x-python",
   "name": "python",
   "nbconvert_exporter": "python",
   "pygments_lexer": "ipython3",
   "version": "3.10.9"
  }
 },
 "nbformat": 4,
 "nbformat_minor": 5
}
